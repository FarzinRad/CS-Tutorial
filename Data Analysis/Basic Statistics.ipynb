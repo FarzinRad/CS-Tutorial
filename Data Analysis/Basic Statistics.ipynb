{
 "cells": [
  {
   "cell_type": "markdown",
   "metadata": {},
   "source": [
    "# Moneball Project:\n",
    "\n",
    "The variables are as follows:\n",
    "\n",
    "Team\n",
    "\n",
    "League\n",
    "\n",
    "Year\n",
    "\n",
    "Runs Scored (RS)\n",
    "\n",
    "Runs Allowed (RA)\n",
    "\n",
    "Wins (W)\n",
    "\n",
    "On-Base Percentage (OBP)\n",
    "\n",
    "Slugging Percentage (SLG)\n",
    "\n",
    "Batting Average (BA)\n",
    "\n",
    "Playoffs (binary)\n",
    "\n",
    "RankSeason\n",
    "\n",
    "RankPlayoffs\n",
    "\n",
    "Games Played (G)\n",
    "\n",
    "Opponent On-Base Percentage (OOBP)\n",
    "\n",
    "Opponent Slugging Percentage (OSLG)\n",
    "\n",
    "Acknowledgements\n",
    "\n",
    "The data itself is gathered from baseball-reference.com.\n",
    "\n",
    "Sports-reference.com is one of the most comprehensive sports statistics resources available, and I highly recommend checking it out.\n",
    "\n"
   ]
  },
  {
   "cell_type": "markdown",
   "metadata": {
    "id": "k--A_-bFAoSM"
   },
   "source": [
    "## Import Libraries, directory and data"
   ]
  },
  {
   "cell_type": "code",
   "execution_count": 1,
   "metadata": {
    "id": "MiV6_lu2A7Hn"
   },
   "outputs": [],
   "source": [
    "#Libraries\n",
    "import pandas as pd\n",
    "import seaborn as sns"
   ]
  },
  {
   "cell_type": "code",
   "execution_count": 2,
   "metadata": {
    "id": "w_aXBTI-A-mo"
   },
   "outputs": [],
   "source": [
    "#dataset\n",
    "df = pd.read_csv(\"Baseball.csv\")"
   ]
  },
  {
   "cell_type": "code",
   "execution_count": 3,
   "metadata": {
    "id": "w_aXBTI-A-mo"
   },
   "outputs": [
    {
     "data": {
      "text/html": [
       "<div>\n",
       "<style scoped>\n",
       "    .dataframe tbody tr th:only-of-type {\n",
       "        vertical-align: middle;\n",
       "    }\n",
       "\n",
       "    .dataframe tbody tr th {\n",
       "        vertical-align: top;\n",
       "    }\n",
       "\n",
       "    .dataframe thead th {\n",
       "        text-align: right;\n",
       "    }\n",
       "</style>\n",
       "<table border=\"1\" class=\"dataframe\">\n",
       "  <thead>\n",
       "    <tr style=\"text-align: right;\">\n",
       "      <th></th>\n",
       "      <th>Team</th>\n",
       "      <th>League</th>\n",
       "      <th>Year</th>\n",
       "      <th>RS</th>\n",
       "      <th>RA</th>\n",
       "      <th>W</th>\n",
       "      <th>OBP</th>\n",
       "      <th>SLG</th>\n",
       "      <th>BA</th>\n",
       "      <th>Playoffs</th>\n",
       "      <th>RankSeason</th>\n",
       "      <th>RankPlayoffs</th>\n",
       "      <th>G</th>\n",
       "      <th>OOBP</th>\n",
       "      <th>OSLG</th>\n",
       "    </tr>\n",
       "  </thead>\n",
       "  <tbody>\n",
       "    <tr>\n",
       "      <th>0</th>\n",
       "      <td>ARI</td>\n",
       "      <td>NL</td>\n",
       "      <td>2012</td>\n",
       "      <td>734</td>\n",
       "      <td>688</td>\n",
       "      <td>81</td>\n",
       "      <td>0.328</td>\n",
       "      <td>0.418</td>\n",
       "      <td>0.259</td>\n",
       "      <td>0</td>\n",
       "      <td>NaN</td>\n",
       "      <td>NaN</td>\n",
       "      <td>162</td>\n",
       "      <td>0.317</td>\n",
       "      <td>0.415</td>\n",
       "    </tr>\n",
       "    <tr>\n",
       "      <th>1</th>\n",
       "      <td>ATL</td>\n",
       "      <td>NL</td>\n",
       "      <td>2012</td>\n",
       "      <td>700</td>\n",
       "      <td>600</td>\n",
       "      <td>94</td>\n",
       "      <td>0.320</td>\n",
       "      <td>0.389</td>\n",
       "      <td>0.247</td>\n",
       "      <td>1</td>\n",
       "      <td>4.0</td>\n",
       "      <td>5.0</td>\n",
       "      <td>162</td>\n",
       "      <td>0.306</td>\n",
       "      <td>0.378</td>\n",
       "    </tr>\n",
       "    <tr>\n",
       "      <th>2</th>\n",
       "      <td>BAL</td>\n",
       "      <td>AL</td>\n",
       "      <td>2012</td>\n",
       "      <td>712</td>\n",
       "      <td>705</td>\n",
       "      <td>93</td>\n",
       "      <td>0.311</td>\n",
       "      <td>0.417</td>\n",
       "      <td>0.247</td>\n",
       "      <td>1</td>\n",
       "      <td>5.0</td>\n",
       "      <td>4.0</td>\n",
       "      <td>162</td>\n",
       "      <td>0.315</td>\n",
       "      <td>0.403</td>\n",
       "    </tr>\n",
       "    <tr>\n",
       "      <th>3</th>\n",
       "      <td>BOS</td>\n",
       "      <td>AL</td>\n",
       "      <td>2012</td>\n",
       "      <td>734</td>\n",
       "      <td>806</td>\n",
       "      <td>69</td>\n",
       "      <td>0.315</td>\n",
       "      <td>0.415</td>\n",
       "      <td>0.260</td>\n",
       "      <td>0</td>\n",
       "      <td>NaN</td>\n",
       "      <td>NaN</td>\n",
       "      <td>162</td>\n",
       "      <td>0.331</td>\n",
       "      <td>0.428</td>\n",
       "    </tr>\n",
       "    <tr>\n",
       "      <th>4</th>\n",
       "      <td>CHC</td>\n",
       "      <td>NL</td>\n",
       "      <td>2012</td>\n",
       "      <td>613</td>\n",
       "      <td>759</td>\n",
       "      <td>61</td>\n",
       "      <td>0.302</td>\n",
       "      <td>0.378</td>\n",
       "      <td>0.240</td>\n",
       "      <td>0</td>\n",
       "      <td>NaN</td>\n",
       "      <td>NaN</td>\n",
       "      <td>162</td>\n",
       "      <td>0.335</td>\n",
       "      <td>0.424</td>\n",
       "    </tr>\n",
       "  </tbody>\n",
       "</table>\n",
       "</div>"
      ],
      "text/plain": [
       "  Team League  Year   RS   RA   W    OBP    SLG     BA  Playoffs  RankSeason  \\\n",
       "0  ARI     NL  2012  734  688  81  0.328  0.418  0.259         0         NaN   \n",
       "1  ATL     NL  2012  700  600  94  0.320  0.389  0.247         1         4.0   \n",
       "2  BAL     AL  2012  712  705  93  0.311  0.417  0.247         1         5.0   \n",
       "3  BOS     AL  2012  734  806  69  0.315  0.415  0.260         0         NaN   \n",
       "4  CHC     NL  2012  613  759  61  0.302  0.378  0.240         0         NaN   \n",
       "\n",
       "   RankPlayoffs    G   OOBP   OSLG  \n",
       "0           NaN  162  0.317  0.415  \n",
       "1           5.0  162  0.306  0.378  \n",
       "2           4.0  162  0.315  0.403  \n",
       "3           NaN  162  0.331  0.428  \n",
       "4           NaN  162  0.335  0.424  "
      ]
     },
     "execution_count": 3,
     "metadata": {},
     "output_type": "execute_result"
    }
   ],
   "source": [
    "df.head()"
   ]
  },
  {
   "cell_type": "markdown",
   "metadata": {
    "id": "jApC00JkBOLJ"
   },
   "source": [
    "## Mean Calculation"
   ]
  },
  {
   "cell_type": "code",
   "execution_count": 6,
   "metadata": {
    "id": "l4ITs0RBBNei"
   },
   "outputs": [
    {
     "data": {
      "text/plain": [
       "715.0819805194806"
      ]
     },
     "execution_count": 6,
     "metadata": {},
     "output_type": "execute_result"
    }
   ],
   "source": [
    "#Mean of Runs scored\n",
    "df['RS'].mean()"
   ]
  },
  {
   "cell_type": "code",
   "execution_count": 25,
   "metadata": {
    "id": "gqWzM3MvBkk-"
   },
   "outputs": [
    {
     "data": {
      "text/plain": [
       "742.2"
      ]
     },
     "execution_count": 25,
     "metadata": {},
     "output_type": "execute_result"
    }
   ],
   "source": [
    "#Mean of Runs scored by the Arizona (ARI) team\n",
    "#df.loc[df.Team == \"ARI\"].RS.mean()\n",
    "ARI = df[df['Team'] == 'ARI']\n",
    "ARI['RS'].mean()"
   ]
  },
  {
   "cell_type": "code",
   "execution_count": 31,
   "metadata": {
    "id": "0OSdMs3-BqmA"
   },
   "outputs": [
    {
     "data": {
      "text/html": [
       "<div>\n",
       "<style scoped>\n",
       "    .dataframe tbody tr th:only-of-type {\n",
       "        vertical-align: middle;\n",
       "    }\n",
       "\n",
       "    .dataframe tbody tr th {\n",
       "        vertical-align: top;\n",
       "    }\n",
       "\n",
       "    .dataframe thead th {\n",
       "        text-align: right;\n",
       "    }\n",
       "</style>\n",
       "<table border=\"1\" class=\"dataframe\">\n",
       "  <thead>\n",
       "    <tr style=\"text-align: right;\">\n",
       "      <th></th>\n",
       "      <th>Team</th>\n",
       "      <th>League</th>\n",
       "      <th>Year</th>\n",
       "      <th>RS</th>\n",
       "      <th>RA</th>\n",
       "      <th>W</th>\n",
       "      <th>OBP</th>\n",
       "      <th>SLG</th>\n",
       "      <th>BA</th>\n",
       "      <th>Playoffs</th>\n",
       "      <th>RankSeason</th>\n",
       "      <th>RankPlayoffs</th>\n",
       "      <th>G</th>\n",
       "      <th>OOBP</th>\n",
       "      <th>OSLG</th>\n",
       "    </tr>\n",
       "  </thead>\n",
       "  <tbody>\n",
       "    <tr>\n",
       "      <th>0</th>\n",
       "      <td>ARI</td>\n",
       "      <td>NL</td>\n",
       "      <td>2012</td>\n",
       "      <td>734</td>\n",
       "      <td>688</td>\n",
       "      <td>81</td>\n",
       "      <td>0.328</td>\n",
       "      <td>0.418</td>\n",
       "      <td>0.259</td>\n",
       "      <td>0</td>\n",
       "      <td>NaN</td>\n",
       "      <td>NaN</td>\n",
       "      <td>162</td>\n",
       "      <td>0.317</td>\n",
       "      <td>0.415</td>\n",
       "    </tr>\n",
       "    <tr>\n",
       "      <th>30</th>\n",
       "      <td>ARI</td>\n",
       "      <td>NL</td>\n",
       "      <td>2011</td>\n",
       "      <td>731</td>\n",
       "      <td>662</td>\n",
       "      <td>94</td>\n",
       "      <td>0.322</td>\n",
       "      <td>0.413</td>\n",
       "      <td>0.250</td>\n",
       "      <td>1</td>\n",
       "      <td>5.0</td>\n",
       "      <td>4.0</td>\n",
       "      <td>162</td>\n",
       "      <td>0.316</td>\n",
       "      <td>0.409</td>\n",
       "    </tr>\n",
       "    <tr>\n",
       "      <th>60</th>\n",
       "      <td>ARI</td>\n",
       "      <td>NL</td>\n",
       "      <td>2010</td>\n",
       "      <td>713</td>\n",
       "      <td>836</td>\n",
       "      <td>65</td>\n",
       "      <td>0.325</td>\n",
       "      <td>0.416</td>\n",
       "      <td>0.250</td>\n",
       "      <td>0</td>\n",
       "      <td>NaN</td>\n",
       "      <td>NaN</td>\n",
       "      <td>162</td>\n",
       "      <td>0.340</td>\n",
       "      <td>0.448</td>\n",
       "    </tr>\n",
       "    <tr>\n",
       "      <th>90</th>\n",
       "      <td>ARI</td>\n",
       "      <td>NL</td>\n",
       "      <td>2009</td>\n",
       "      <td>720</td>\n",
       "      <td>782</td>\n",
       "      <td>70</td>\n",
       "      <td>0.324</td>\n",
       "      <td>0.418</td>\n",
       "      <td>0.253</td>\n",
       "      <td>0</td>\n",
       "      <td>NaN</td>\n",
       "      <td>NaN</td>\n",
       "      <td>162</td>\n",
       "      <td>0.330</td>\n",
       "      <td>0.419</td>\n",
       "    </tr>\n",
       "    <tr>\n",
       "      <th>120</th>\n",
       "      <td>ARI</td>\n",
       "      <td>NL</td>\n",
       "      <td>2008</td>\n",
       "      <td>720</td>\n",
       "      <td>706</td>\n",
       "      <td>82</td>\n",
       "      <td>0.327</td>\n",
       "      <td>0.415</td>\n",
       "      <td>0.251</td>\n",
       "      <td>0</td>\n",
       "      <td>NaN</td>\n",
       "      <td>NaN</td>\n",
       "      <td>162</td>\n",
       "      <td>0.318</td>\n",
       "      <td>0.398</td>\n",
       "    </tr>\n",
       "    <tr>\n",
       "      <th>150</th>\n",
       "      <td>ARI</td>\n",
       "      <td>NL</td>\n",
       "      <td>2007</td>\n",
       "      <td>712</td>\n",
       "      <td>732</td>\n",
       "      <td>90</td>\n",
       "      <td>0.321</td>\n",
       "      <td>0.413</td>\n",
       "      <td>0.250</td>\n",
       "      <td>1</td>\n",
       "      <td>3.0</td>\n",
       "      <td>3.0</td>\n",
       "      <td>162</td>\n",
       "      <td>0.334</td>\n",
       "      <td>0.420</td>\n",
       "    </tr>\n",
       "    <tr>\n",
       "      <th>180</th>\n",
       "      <td>ARI</td>\n",
       "      <td>NL</td>\n",
       "      <td>2006</td>\n",
       "      <td>773</td>\n",
       "      <td>788</td>\n",
       "      <td>76</td>\n",
       "      <td>0.331</td>\n",
       "      <td>0.424</td>\n",
       "      <td>0.267</td>\n",
       "      <td>0</td>\n",
       "      <td>NaN</td>\n",
       "      <td>NaN</td>\n",
       "      <td>162</td>\n",
       "      <td>0.335</td>\n",
       "      <td>0.431</td>\n",
       "    </tr>\n",
       "  </tbody>\n",
       "</table>\n",
       "</div>"
      ],
      "text/plain": [
       "    Team League  Year   RS   RA   W    OBP    SLG     BA  Playoffs  \\\n",
       "0    ARI     NL  2012  734  688  81  0.328  0.418  0.259         0   \n",
       "30   ARI     NL  2011  731  662  94  0.322  0.413  0.250         1   \n",
       "60   ARI     NL  2010  713  836  65  0.325  0.416  0.250         0   \n",
       "90   ARI     NL  2009  720  782  70  0.324  0.418  0.253         0   \n",
       "120  ARI     NL  2008  720  706  82  0.327  0.415  0.251         0   \n",
       "150  ARI     NL  2007  712  732  90  0.321  0.413  0.250         1   \n",
       "180  ARI     NL  2006  773  788  76  0.331  0.424  0.267         0   \n",
       "\n",
       "     RankSeason  RankPlayoffs    G   OOBP   OSLG  \n",
       "0           NaN           NaN  162  0.317  0.415  \n",
       "30          5.0           4.0  162  0.316  0.409  \n",
       "60          NaN           NaN  162  0.340  0.448  \n",
       "90          NaN           NaN  162  0.330  0.419  \n",
       "120         NaN           NaN  162  0.318  0.398  \n",
       "150         3.0           3.0  162  0.334  0.420  \n",
       "180         NaN           NaN  162  0.335  0.431  "
      ]
     },
     "execution_count": 31,
     "metadata": {},
     "output_type": "execute_result"
    }
   ],
   "source": [
    "#Mean of Runs scored by the Arizona since 2005\n",
    "#df.loc[(df.Team == \"ARI\") & (df.Year > 2005)].RS.mean()\n",
    "ARI[ARI['Year'] >2005]"
   ]
  },
  {
   "cell_type": "code",
   "execution_count": 42,
   "metadata": {
    "id": "Lm3uKg1hCqnk"
   },
   "outputs": [
    {
     "data": {
      "text/plain": [
       "728.170731707317"
      ]
     },
     "execution_count": 42,
     "metadata": {},
     "output_type": "execute_result"
    }
   ],
   "source": [
    "#Question - What is the mean of the Runs Allowed (RA)\n",
    "# by the chicago (CHC) team until 2007\n",
    "#df.loc[(df.Team == \"CHC\") & (df.Year < 2007)].RA.mean()\n",
    "CHC = df[(df['Team'] == 'CHC') & (df['Year'] <2007)]\n",
    "#CHC[CHC['Year'] <2007].head()\n",
    "CHC['RA'].mean()"
   ]
  },
  {
   "cell_type": "markdown",
   "metadata": {
    "id": "41NTcdkKGuF5"
   },
   "source": [
    "## Median Calculation"
   ]
  },
  {
   "cell_type": "code",
   "execution_count": 45,
   "metadata": {
    "id": "ywGqVpk1GtjI"
   },
   "outputs": [
    {
     "data": {
      "text/plain": [
       "(80.90422077922078, 81.0)"
      ]
     },
     "execution_count": 45,
     "metadata": {},
     "output_type": "execute_result"
    }
   ],
   "source": [
    "#Median and mean of Wins\n",
    "df['W'].mean(), df['W'].median()"
   ]
  },
  {
   "cell_type": "code",
   "execution_count": 61,
   "metadata": {
    "id": "EGT7evh-HFU4"
   },
   "outputs": [
    {
     "data": {
      "text/plain": [
       "89.0"
      ]
     },
     "execution_count": 61,
     "metadata": {},
     "output_type": "execute_result"
    }
   ],
   "source": [
    "#Question - What is the median of Wins of the Baltimore team (BA)\n",
    "#df.loc[df.Team == \"BAL\"].W.median()\n",
    "df[(df['Team'] == 'BAL') & (df['Year'] <= 2000)]['W'].median()"
   ]
  },
  {
   "cell_type": "markdown",
   "metadata": {
    "id": "z2SgzcYvH8n-"
   },
   "source": [
    "## Mode Calculation"
   ]
  },
  {
   "cell_type": "code",
   "execution_count": 62,
   "metadata": {
    "id": "4mqu6__UH_dg"
   },
   "outputs": [
    {
     "name": "stdout",
     "output_type": "stream",
     "text": [
      "0    0.322\n",
      "dtype: float64\n",
      "0.326\n",
      "0.3263311688311693\n"
     ]
    }
   ],
   "source": [
    "#Mode of On-Base Percentage (OBP)\n",
    "print(df.OBP.mode())\n",
    "print(df.OBP.median())\n",
    "print(df.OBP.mean())"
   ]
  },
  {
   "cell_type": "code",
   "execution_count": 63,
   "metadata": {
    "id": "KX1XKx_CI40u"
   },
   "outputs": [
    {
     "data": {
      "text/plain": [
       "0    0.332\n",
       "dtype: float64"
      ]
     },
     "execution_count": 63,
     "metadata": {},
     "output_type": "execute_result"
    }
   ],
   "source": [
    "#Question - Mode of OBP during the year 2010\n",
    "df.loc[df.Year == 2010].OBP.mode()"
   ]
  },
  {
   "cell_type": "markdown",
   "metadata": {
    "id": "kMdCZH-Ds3KZ"
   },
   "source": [
    "## Correlation Calculation"
   ]
  },
  {
   "cell_type": "code",
   "execution_count": 64,
   "metadata": {
    "id": "-i_WLbPSs7EE"
   },
   "outputs": [
    {
     "data": {
      "text/html": [
       "<div>\n",
       "<style scoped>\n",
       "    .dataframe tbody tr th:only-of-type {\n",
       "        vertical-align: middle;\n",
       "    }\n",
       "\n",
       "    .dataframe tbody tr th {\n",
       "        vertical-align: top;\n",
       "    }\n",
       "\n",
       "    .dataframe thead th {\n",
       "        text-align: right;\n",
       "    }\n",
       "</style>\n",
       "<table border=\"1\" class=\"dataframe\">\n",
       "  <thead>\n",
       "    <tr style=\"text-align: right;\">\n",
       "      <th></th>\n",
       "      <th>RS</th>\n",
       "      <th>RA</th>\n",
       "      <th>W</th>\n",
       "    </tr>\n",
       "  </thead>\n",
       "  <tbody>\n",
       "    <tr>\n",
       "      <th>0</th>\n",
       "      <td>734</td>\n",
       "      <td>688</td>\n",
       "      <td>81</td>\n",
       "    </tr>\n",
       "  </tbody>\n",
       "</table>\n",
       "</div>"
      ],
      "text/plain": [
       "    RS   RA   W\n",
       "0  734  688  81"
      ]
     },
     "execution_count": 64,
     "metadata": {},
     "output_type": "execute_result"
    }
   ],
   "source": [
    "#selecting variables\n",
    "df_corr = df[[\"RS\", \"RA\", \"W\"]]\n",
    "df_corr.head(1)"
   ]
  },
  {
   "cell_type": "code",
   "execution_count": 65,
   "metadata": {
    "id": "niOJhC-Uu5QS"
   },
   "outputs": [
    {
     "data": {
      "text/html": [
       "<div>\n",
       "<style scoped>\n",
       "    .dataframe tbody tr th:only-of-type {\n",
       "        vertical-align: middle;\n",
       "    }\n",
       "\n",
       "    .dataframe tbody tr th {\n",
       "        vertical-align: top;\n",
       "    }\n",
       "\n",
       "    .dataframe thead th {\n",
       "        text-align: right;\n",
       "    }\n",
       "</style>\n",
       "<table border=\"1\" class=\"dataframe\">\n",
       "  <thead>\n",
       "    <tr style=\"text-align: right;\">\n",
       "      <th></th>\n",
       "      <th>RS</th>\n",
       "      <th>RA</th>\n",
       "      <th>W</th>\n",
       "    </tr>\n",
       "  </thead>\n",
       "  <tbody>\n",
       "    <tr>\n",
       "      <th>RS</th>\n",
       "      <td>1.000000</td>\n",
       "      <td>0.380139</td>\n",
       "      <td>0.511745</td>\n",
       "    </tr>\n",
       "    <tr>\n",
       "      <th>RA</th>\n",
       "      <td>0.380139</td>\n",
       "      <td>1.000000</td>\n",
       "      <td>-0.532394</td>\n",
       "    </tr>\n",
       "    <tr>\n",
       "      <th>W</th>\n",
       "      <td>0.511745</td>\n",
       "      <td>-0.532394</td>\n",
       "      <td>1.000000</td>\n",
       "    </tr>\n",
       "  </tbody>\n",
       "</table>\n",
       "</div>"
      ],
      "text/plain": [
       "          RS        RA         W\n",
       "RS  1.000000  0.380139  0.511745\n",
       "RA  0.380139  1.000000 -0.532394\n",
       "W   0.511745 -0.532394  1.000000"
      ]
     },
     "execution_count": 65,
     "metadata": {},
     "output_type": "execute_result"
    }
   ],
   "source": [
    "#correlation matrix\n",
    "df_corr.corr()"
   ]
  },
  {
   "cell_type": "code",
   "execution_count": 67,
   "metadata": {
    "id": "NwfFAoyguxWt"
   },
   "outputs": [
    {
     "data": {
      "text/plain": [
       "<matplotlib.axes._subplots.AxesSubplot at 0x7fcd96110750>"
      ]
     },
     "execution_count": 67,
     "metadata": {},
     "output_type": "execute_result"
    },
    {
     "data": {
      "image/png": "[encoded data removed]",
      "text/plain": [
       "<Figure size 432x288 with 2 Axes>"
      ]
     },
     "metadata": {
      "needs_background": "light"
     },
     "output_type": "display_data"
    }
   ],
   "source": [
    "#correlation heatmap\n",
    "sns.heatmap(df_corr.corr(),\n",
    "            annot = True,\n",
    "            fmt = '.2g',\n",
    "            )"
   ]
  },
  {
   "cell_type": "markdown",
   "metadata": {
    "id": "uf29maME3FCT"
   },
   "source": [
    "#Challenge run a correlation \n",
    "#matrix and heatmap with variables \n",
    "#OBP, SLG and BA. \n",
    "#Change 2 parameters in the heatmap function."
   ]
  },
  {
   "cell_type": "code",
   "execution_count": null,
   "metadata": {
    "id": "cOZqNy_YvKfH"
   },
   "outputs": [],
   "source": [
    "#Running a correlation matrix and heatmap between OBP, SLG and BA\n",
    "df_corr2 = df[[\"OBP\", \"SLG\", \"BA\"]]"
   ]
  },
  {
   "cell_type": "code",
   "execution_count": null,
   "metadata": {
    "id": "qfUuyGGw24qs"
   },
   "outputs": [],
   "source": [
    "#correlation matrix\n",
    "df_corr2.corr()"
   ]
  },
  {
   "cell_type": "code",
   "execution_count": null,
   "metadata": {
    "id": "MBp8PAC529v7"
   },
   "outputs": [],
   "source": [
    "#correlation heatmap2\n",
    "sns.heatmap(df_corr2.corr(),\n",
    "            annot = True,\n",
    "            fmt = '.1g',\n",
    "            center = 0.7,\n",
    "            cmap = 'rocket',\n",
    "            linewidths = 2,\n",
    "            linecolor = 'white')"
   ]
  },
  {
   "cell_type": "markdown",
   "metadata": {
    "id": "E_Ng2cjkAx4B"
   },
   "source": [
    "#Standard Deviation"
   ]
  },
  {
   "cell_type": "code",
   "execution_count": null,
   "metadata": {
    "id": "2587Udw6A0Ay"
   },
   "outputs": [],
   "source": [
    "#Standard deviation\n",
    "print(df.OOBP.mean())\n",
    "print(df.OOBP.std())"
   ]
  },
  {
   "cell_type": "code",
   "execution_count": null,
   "metadata": {
    "id": "ZgGZZ0uiBr2o"
   },
   "outputs": [],
   "source": [
    "#Standard deviation of BA\n",
    "print(df.BA.mean())\n",
    "print(df.BA.std())"
   ]
  }
 ],
 "metadata": {
  "colab": {
   "authorship_tag": "ABX9TyPjlFPzqFmhpSwo2XnbEGNA",
   "mount_file_id": "1ou8GvvOepXH1uaEAfpUqj89eq_hZaXiA",
   "name": "Basic Statistics.ipynb",
   "provenance": []
  },
  "kernelspec": {
   "display_name": "Python 3",
   "language": "python",
   "name": "python3"
  },
  "language_info": {
   "codemirror_mode": {
    "name": "ipython",
    "version": 3
   },
   "file_extension": ".py",
   "mimetype": "text/x-python",
   "name": "python",
   "nbconvert_exporter": "python",
   "pygments_lexer": "ipython3",
   "version": "3.7.6"
  }
 },
 "nbformat": 4,
 "nbformat_minor": 4
}
