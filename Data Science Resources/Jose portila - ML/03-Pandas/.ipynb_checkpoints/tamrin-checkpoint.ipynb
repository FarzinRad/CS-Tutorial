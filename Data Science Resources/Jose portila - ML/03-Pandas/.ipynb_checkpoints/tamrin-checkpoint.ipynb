{
 "cells": [
  {
   "cell_type": "code",
   "execution_count": 1,
   "id": "ed68e7bf-0b7f-4c87-85f3-071465f269cc",
   "metadata": {},
   "outputs": [],
   "source": [
    "import numpy as np\n",
    "import pandas as pd"
   ]
  },
  {
   "cell_type": "code",
   "execution_count": 2,
   "id": "77ae39cb-d7d5-45cd-8d18-939925865afc",
   "metadata": {},
   "outputs": [],
   "source": [
    "myindex = ['USA','Canada','Mexico']\n",
    "mydata = [1776,1867,1821]"
   ]
  },
  {
   "cell_type": "code",
   "execution_count": 5,
   "id": "1beee8de-553b-45b3-ada9-5d145939deaa",
   "metadata": {},
   "outputs": [
    {
     "data": {
      "text/plain": [
       "1776       USA\n",
       "1867    Canada\n",
       "1821    Mexico\n",
       "dtype: object"
      ]
     },
     "execution_count": 5,
     "metadata": {},
     "output_type": "execute_result"
    }
   ],
   "source": [
    "myseries = pd.Series(myindex,mydata)\n",
    "myseries\n",
    "#point: \"S\" (pd.Seires) is true not \"s\" (captal)"
   ]
  },
  {
   "cell_type": "code",
   "execution_count": 6,
   "id": "a4323ea4-3c98-4397-acd9-ed14b287c580",
   "metadata": {},
   "outputs": [],
   "source": [
    "ages = {'Sammy':5,'Frank':10,'Spike':7}"
   ]
  },
  {
   "cell_type": "code",
   "execution_count": 7,
   "id": "28f98b17-7ae0-43a9-9a3a-6620886c7a50",
   "metadata": {},
   "outputs": [
    {
     "data": {
      "text/plain": [
       "Sammy     5\n",
       "Frank    10\n",
       "Spike     7\n",
       "dtype: int64"
      ]
     },
     "execution_count": 7,
     "metadata": {},
     "output_type": "execute_result"
    }
   ],
   "source": [
    "pd.Series(ages)"
   ]
  },
  {
   "cell_type": "code",
   "execution_count": 8,
   "id": "78ac6aa6-1a4b-41a2-b150-710cfb7165e5",
   "metadata": {},
   "outputs": [],
   "source": [
    "q1 = {'Japan': 80, 'China': 450, 'India': 200, 'USA': 250}\n",
    "q2 = {'Brazil': 100,'China': 500, 'India': 210,'USA': 260}"
   ]
  },
  {
   "cell_type": "code",
   "execution_count": 9,
   "id": "60e0c5bb-9b4b-4438-8844-26b80be9593e",
   "metadata": {},
   "outputs": [],
   "source": [
    "SQ1 = pd.Series(q1)\n",
    "SQ2 = pd.Series(q2)"
   ]
  },
  {
   "cell_type": "code",
   "execution_count": 14,
   "id": "732550e4-1bdf-4000-bcd7-c6d47db9383c",
   "metadata": {},
   "outputs": [
    {
     "data": {
      "text/plain": [
       "Brazil    100.0\n",
       "China     950.0\n",
       "India     410.0\n",
       "Japan      80.0\n",
       "USA       510.0\n",
       "dtype: float64"
      ]
     },
     "execution_count": 14,
     "metadata": {},
     "output_type": "execute_result"
    }
   ],
   "source": [
    "SQ1.add(SQ2,fill_value=0)\n",
    "#note:fill have \"_\" and then value not fillvalue"
   ]
  },
  {
   "cell_type": "markdown",
   "id": "3eca1c95-0ffb-4a26-8b18-5a871b25e010",
   "metadata": {},
   "source": [
    "# lesson2"
   ]
  },
  {
   "cell_type": "code",
   "execution_count": null,
   "id": "62de9eed-2b30-4ad7-be5c-5c7ffc6e7c75",
   "metadata": {},
   "outputs": [],
   "source": []
  }
 ],
 "metadata": {
  "kernelspec": {
   "display_name": "Python 3",
   "language": "python",
   "name": "python3"
  },
  "language_info": {
   "codemirror_mode": {
    "name": "ipython",
    "version": 3
   },
   "file_extension": ".py",
   "mimetype": "text/x-python",
   "name": "python",
   "nbconvert_exporter": "python",
   "pygments_lexer": "ipython3",
   "version": "3.7.11"
  }
 },
 "nbformat": 4,
 "nbformat_minor": 5
}
