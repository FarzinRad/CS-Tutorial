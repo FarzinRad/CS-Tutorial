{
 "cells": [
  {
   "cell_type": "markdown",
   "id": "radio-tactics",
   "metadata": {},
   "source": [
    "# Data Access"
   ]
  },
  {
   "cell_type": "markdown",
   "id": "directed-siemens",
   "metadata": {},
   "source": [
    "## Accessing Series Elements"
   ]
  },
  {
   "cell_type": "markdown",
   "id": "western-obligation",
   "metadata": {},
   "source": [
    "In the section above, you’ve created a Pandas Series based on a Python list and compared the two data structures. You’ve seen how a Series object is similar to lists and dictionaries in several ways. A further similarity is that you can use the **indexing operator** (`[]`) for Series as well."
   ]
  },
  {
   "cell_type": "markdown",
   "id": "asian-sewing",
   "metadata": {},
   "source": [
    "You’ll also learn how to use two Pandas-specific access methods:\n",
    "\n",
    "- `.loc`\n",
    "- `.iloc`"
   ]
  },
  {
   "cell_type": "markdown",
   "id": "alone-management",
   "metadata": {},
   "source": [
    "You’ll see that these data access methods can be much more readable than the indexing operator."
   ]
  },
  {
   "cell_type": "markdown",
   "id": "metric-performance",
   "metadata": {},
   "source": [
    "### Using the Indexing Operator\n",
    "\n",
    "Recall that a Series has two indices:\n",
    "\n",
    "- A positional or implicit index, which is always a `RangeIndex`\n",
    "- A label or explicit index, which can contain any hashable objects"
   ]
  },
  {
   "cell_type": "code",
   "execution_count": 5,
   "id": "manual-duplicate",
   "metadata": {},
   "outputs": [],
   "source": [
    "city_revenues = pd.Series(\n",
    "    [4200, 8000, 6500],\n",
    "    index=[\"Amsterdam\", \"Toronto\", \"Tokyo\"]\n",
    ")"
   ]
  },
  {
   "cell_type": "markdown",
   "id": "dangerous-tower",
   "metadata": {},
   "source": [
    "You can conveniently access the values in a `Series` with both the label and positional indices:"
   ]
  },
  {
   "cell_type": "code",
   "execution_count": 6,
   "id": "grand-directive",
   "metadata": {},
   "outputs": [
    {
     "data": {
      "text/plain": [
       "8000"
      ]
     },
     "execution_count": 6,
     "metadata": {},
     "output_type": "execute_result"
    }
   ],
   "source": [
    "city_revenues[\"Toronto\"]"
   ]
  },
  {
   "cell_type": "code",
   "execution_count": 7,
   "id": "soviet-assignment",
   "metadata": {},
   "outputs": [
    {
     "data": {
      "text/plain": [
       "8000"
      ]
     },
     "execution_count": 7,
     "metadata": {},
     "output_type": "execute_result"
    }
   ],
   "source": [
    "city_revenues[1]"
   ]
  },
  {
   "cell_type": "markdown",
   "id": "handmade-cincinnati",
   "metadata": {},
   "source": [
    "You can also use negative indices and slices, just like you would for a list:"
   ]
  },
  {
   "cell_type": "code",
   "execution_count": 8,
   "id": "adequate-providence",
   "metadata": {},
   "outputs": [
    {
     "data": {
      "text/plain": [
       "6500"
      ]
     },
     "execution_count": 8,
     "metadata": {},
     "output_type": "execute_result"
    }
   ],
   "source": [
    "city_revenues[-1]"
   ]
  },
  {
   "cell_type": "code",
   "execution_count": 9,
   "id": "optional-toner",
   "metadata": {},
   "outputs": [
    {
     "data": {
      "text/plain": [
       "Toronto    8000\n",
       "Tokyo      6500\n",
       "dtype: int64"
      ]
     },
     "execution_count": 9,
     "metadata": {},
     "output_type": "execute_result"
    }
   ],
   "source": [
    "city_revenues[1:]"
   ]
  },
  {
   "cell_type": "code",
   "execution_count": 10,
   "id": "fatty-reset",
   "metadata": {},
   "outputs": [
    {
     "data": {
      "text/plain": [
       "Toronto    8000\n",
       "Tokyo      6500\n",
       "dtype: int64"
      ]
     },
     "execution_count": 10,
     "metadata": {},
     "output_type": "execute_result"
    }
   ],
   "source": [
    "city_revenues['Toronto':]"
   ]
  },
  {
   "cell_type": "code",
   "execution_count": 12,
   "id": "velvet-language",
   "metadata": {},
   "outputs": [
    {
     "data": {
      "text/plain": [
       "Toronto    8000\n",
       "Tokyo      6500\n",
       "dtype: int64"
      ]
     },
     "execution_count": 12,
     "metadata": {},
     "output_type": "execute_result"
    }
   ],
   "source": [
    "city_revenues[['Toronto', 'Tokyo']]"
   ]
  },
  {
   "cell_type": "markdown",
   "id": "cross-mexico",
   "metadata": {},
   "source": [
    "### Using `.loc` and `.iloc`\n",
    "\n",
    "The indexing operator (`[]`) is convenient, but there’s a caveat. What if the labels are also numbers? Say you have to work with a `Series` object like this:"
   ]
  },
  {
   "cell_type": "code",
   "execution_count": 13,
   "id": "limiting-transfer",
   "metadata": {},
   "outputs": [
    {
     "data": {
      "text/plain": [
       "1       red\n",
       "2    purple\n",
       "3      blue\n",
       "5     green\n",
       "8    yellow\n",
       "dtype: object"
      ]
     },
     "execution_count": 13,
     "metadata": {},
     "output_type": "execute_result"
    }
   ],
   "source": [
    "colors = pd.Series(\n",
    "    [\"red\", \"purple\", \"blue\", \"green\", \"yellow\"],\n",
    "    index=[1, 2, 3, 5, 8]\n",
    ")\n",
    "colors"
   ]
  },
  {
   "cell_type": "markdown",
   "id": "aging-heaven",
   "metadata": {},
   "source": [
    "What will `colors[1]` return? For a positional index, `colors[1]` is `\"purple\"`. However, if you go by the label index, then `colors[1]` is referring to `\"red\"`."
   ]
  },
  {
   "cell_type": "code",
   "execution_count": 14,
   "id": "flexible-aurora",
   "metadata": {},
   "outputs": [
    {
     "data": {
      "text/plain": [
       "'red'"
      ]
     },
     "execution_count": 14,
     "metadata": {},
     "output_type": "execute_result"
    }
   ],
   "source": [
    "colors[1]"
   ]
  },
  {
   "cell_type": "markdown",
   "id": "extreme-values",
   "metadata": {},
   "source": [
    "The good news is, you don’t have to figure it out! Instead, to avoid confusion, the Pandas Python library provides two data access methods:\n",
    "\n",
    "- `.loc` refers to the **label index**.\n",
    "- `.iloc` refers to the **positional index**."
   ]
  },
  {
   "cell_type": "markdown",
   "id": "aquatic-bermuda",
   "metadata": {},
   "source": [
    "These data access methods are much more readable:"
   ]
  },
  {
   "cell_type": "code",
   "execution_count": 16,
   "id": "christian-painting",
   "metadata": {},
   "outputs": [
    {
     "data": {
      "text/plain": [
       "'red'"
      ]
     },
     "execution_count": 16,
     "metadata": {},
     "output_type": "execute_result"
    }
   ],
   "source": [
    "colors.loc[1]"
   ]
  },
  {
   "cell_type": "code",
   "execution_count": 17,
   "id": "ordered-cursor",
   "metadata": {},
   "outputs": [
    {
     "data": {
      "text/plain": [
       "'purple'"
      ]
     },
     "execution_count": 17,
     "metadata": {},
     "output_type": "execute_result"
    }
   ],
   "source": [
    "colors.iloc[1]"
   ]
  },
  {
   "cell_type": "markdown",
   "id": "empty-cosmetic",
   "metadata": {},
   "source": [
    "`colors.loc[1]` returned `\"red\"`, the element with the label `1`. `colors.iloc[1]` returned `\"purple\"`, the element with the index `1`."
   ]
  },
  {
   "cell_type": "markdown",
   "id": "tough-reducing",
   "metadata": {},
   "source": [
    "The following figure shows which elements `.loc` and `.iloc` refer to:"
   ]
  },
  {
   "cell_type": "markdown",
   "id": "weird-camping",
   "metadata": {},
   "source": [
    "<img src=\"../images/loc-iloc.png\" alt=\"loc-iloc\" width=400 align=\"left\" />"
   ]
  },
  {
   "cell_type": "markdown",
   "id": "legendary-column",
   "metadata": {},
   "source": [
    "Again, `.loc` points to the **label index** on the right-hand side of the image. Meanwhile, `.iloc` points to the **positional index** on the left-hand side of the picture."
   ]
  },
  {
   "cell_type": "markdown",
   "id": "silent-turning",
   "metadata": {},
   "source": [
    "It’s easier to keep in mind the distinction between `.loc` and `.iloc` than it is to figure out what the indexing operator will return. Even if you’re familiar with all the quirks of the indexing operator, it can be dangerous to assume that everybody who reads your code has internalized those rules as well!"
   ]
  },
  {
   "cell_type": "markdown",
   "id": "creative-manhattan",
   "metadata": {},
   "source": [
    "> **Note:** In addition to being confusing for Series with numeric labels, the Python indexing operator has some **performance drawbacks**. It’s perfectly okay to use it in interactive sessions for ad-hoc analysis, but for production code, the `.loc` and `.iloc` data access methods are preferable. For further details, check out the Pandas User Guide section on [indexing and selecting data](https://pandas.pydata.org/pandas-docs/stable/user_guide/indexing.html)."
   ]
  },
  {
   "cell_type": "markdown",
   "id": "uniform-owner",
   "metadata": {},
   "source": [
    "`.loc` and `.iloc` also support the features you would expect from indexing operators, like slicing. However, these data access methods have an important difference. While `.iloc` **excludes** the closing element, `.loc` **includes** it. Take a look at this code block:"
   ]
  },
  {
   "cell_type": "code",
   "execution_count": 19,
   "id": "waiting-couple",
   "metadata": {},
   "outputs": [
    {
     "data": {
      "text/plain": [
       "2    purple\n",
       "3      blue\n",
       "dtype: object"
      ]
     },
     "execution_count": 19,
     "metadata": {},
     "output_type": "execute_result"
    }
   ],
   "source": [
    "# Return the elements with the implicit index: 1, 2\n",
    "colors.iloc[1:3]"
   ]
  },
  {
   "cell_type": "markdown",
   "id": "pregnant-parker",
   "metadata": {},
   "source": [
    "If you compare this code with the image above, then you can see that `colors.iloc[1:3]` returns the elements with the positional indices of 1 and 2. The closing item `\"green\"` with a positional index of `3` is excluded."
   ]
  },
  {
   "cell_type": "markdown",
   "id": "retained-alloy",
   "metadata": {},
   "source": [
    "On the other hand, `.loc` includes the closing element:"
   ]
  },
  {
   "cell_type": "code",
   "execution_count": 20,
   "id": "suspended-terminal",
   "metadata": {},
   "outputs": [
    {
     "data": {
      "text/plain": [
       "3      blue\n",
       "5     green\n",
       "8    yellow\n",
       "dtype: object"
      ]
     },
     "execution_count": 20,
     "metadata": {},
     "output_type": "execute_result"
    }
   ],
   "source": [
    "# Return the elements with the explicit index between 3 and 8\n",
    "colors.loc[3:8]"
   ]
  },
  {
   "cell_type": "markdown",
   "id": "floral-virginia",
   "metadata": {},
   "source": [
    "This code block says to return all elements with a label index between 3 and 8. Here, the closing item `\"yellow\"` has a label index of `8` and is included in the output."
   ]
  },
  {
   "cell_type": "markdown",
   "id": "further-hayes",
   "metadata": {},
   "source": [
    "You can also pass a negative positional index to `.iloc`:"
   ]
  },
  {
   "cell_type": "code",
   "execution_count": 21,
   "id": "recorded-preservation",
   "metadata": {},
   "outputs": [
    {
     "data": {
      "text/plain": [
       "'green'"
      ]
     },
     "execution_count": 21,
     "metadata": {},
     "output_type": "execute_result"
    }
   ],
   "source": [
    "colors.iloc[-2]"
   ]
  },
  {
   "cell_type": "markdown",
   "id": "described-potter",
   "metadata": {},
   "source": [
    "> **Note:** There used to be an `.ix` indexer, which tried to guess whether it should apply positional or label indexing depending on the data type of the index. Because it caused a lot of confusion, it has been deprecated since Pandas version 0.20.0.\n",
    ">\n",
    "> It’s highly recommended that you **do not use `.ix`** for indexing. Instead, always use .loc for label indexing and .iloc for positional indexing. For further details, check out the [Pandas User Guide](https://pandas.pydata.org/pandas-docs/stable/user_guide/indexing.html#ix-indexer-is-deprecated)."
   ]
  },
  {
   "cell_type": "markdown",
   "id": "alien-rover",
   "metadata": {},
   "source": [
    "You can use the code blocks above to distinguish between two Series behaviors:\n",
    "\n",
    "- You can use `.iloc` on a Series similar to using `[]` on a list.\n",
    "- You can use `.loc` on a Series similar to using `[]` on a dictionary.\n",
    "\n",
    "Be sure to keep these distinctions in mind as you access elements of your `Series` objects."
   ]
  },
  {
   "cell_type": "markdown",
   "id": "comic-semester",
   "metadata": {},
   "source": [
    "## Accessing DataFrame Elements\n",
    "\n",
    "Since a `DataFrame` consists of `Series` objects, you can use the very same tools to access its elements. The crucial difference is the additional dimension of the DataFrame. You’ll use the indexing operator for the columns and the access methods `.loc` and `.iloc` on the rows."
   ]
  },
  {
   "cell_type": "markdown",
   "id": "comparable-offering",
   "metadata": {},
   "source": [
    "### Using the Indexing Operator\n",
    "\n",
    "If you think of a `DataFrame` as a dictionary whose values are Series, then it makes sense that you can access its columns with the indexing operator:"
   ]
  }
 ],
 "metadata": {
  "kernelspec": {
   "display_name": "Python 3",
   "language": "python",
   "name": "python3"
  },
  "language_info": {
   "codemirror_mode": {
    "name": "ipython",
    "version": 3
   },
   "file_extension": ".py",
   "mimetype": "text/x-python",
   "name": "python",
   "nbconvert_exporter": "python",
   "pygments_lexer": "ipython3",
   "version": "3.7.9"
  }
 },
 "nbformat": 4,
 "nbformat_minor": 5
}
