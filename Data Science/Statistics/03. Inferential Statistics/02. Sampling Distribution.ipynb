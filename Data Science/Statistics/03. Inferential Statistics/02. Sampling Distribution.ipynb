{
 "cells": [
  {
   "cell_type": "markdown",
   "id": "wanted-accuracy",
   "metadata": {},
   "source": [
    "# Sampling Distribution\n",
    "\n",
    "Random samples rarely represent the underlying population exactly. Accordingly, generalizations from a single sample to a population are much more tentative. Indeed, generalizations are based not merely on the single sample mean of 533 but also on its distribution—a distribution of sample means for all possible random samples. Representing the statistician’s model of random outcomes,\n",
    "\n",
    "**The sampling distribution of the mean refers to the probability distribution of means for all possible random samples of a given size from some population.**"
   ]
  },
  {
   "cell_type": "markdown",
   "id": "fluid-idaho",
   "metadata": {},
   "source": [
    "The sampling distribution of the mean allows us to determine whether, given the variability among all possible sample means, the one observed sample mean can be viewed as a **common** outcome or as a **rare** outcome."
   ]
  },
  {
   "cell_type": "markdown",
   "id": "improved-action",
   "metadata": {},
   "source": [
    "## All Possible Random Samples\n",
    "\n",
    "When attempting to generalize from a single sample mean to a population mean, we must consult the sampling distribution of the mean.\n",
    "\n",
    "For example, for a sample size of 100, all possible random samples refers not to the number of samples of size 100 required to survey completely, but to the number of different ways in which a single sample of size 100 can be selected from this population."
   ]
  },
  {
   "cell_type": "markdown",
   "id": "large-regression",
   "metadata": {},
   "source": [
    "All possible random samples tends to be a huge number. Fortunately, statistical theory supplies us with considerable information about the sampling distribution of the mean, as will be discussed in the remainder of this chapter."
   ]
  },
  {
   "cell_type": "markdown",
   "id": "recorded-liberia",
   "metadata": {},
   "source": [
    "## Creating a Sampling Distribution from Scratch\n",
    "\n",
    "Let’s establish precisely what constitutes a sampling distribution by creating one from scratch under highly simplified conditions. Imagine some ridiculously small population of four observations with values of 2, 3, 4, and 5."
   ]
  },
  {
   "cell_type": "markdown",
   "id": "statistical-smooth",
   "metadata": {},
   "source": [
    "Next, itemize all possible random samples, each of size two, that could be taken from this population. There are four possibilities on the first draw from the population and also  four possibilities on the second draw from the population."
   ]
  },
  {
   "cell_type": "code",
   "execution_count": 10,
   "id": "minute-bristol",
   "metadata": {},
   "outputs": [],
   "source": [
    "from itertools import product\n",
    "import seaborn as sns"
   ]
  },
  {
   "cell_type": "code",
   "execution_count": 34,
   "id": "twenty-institution",
   "metadata": {},
   "outputs": [],
   "source": [
    "population = [2, 3, 4, 5]"
   ]
  },
  {
   "cell_type": "code",
   "execution_count": 35,
   "id": "humanitarian-thinking",
   "metadata": {},
   "outputs": [
    {
     "data": {
      "text/plain": [
       "3.5"
      ]
     },
     "execution_count": 35,
     "metadata": {},
     "output_type": "execute_result"
    }
   ],
   "source": [
    "np.mean(population)"
   ]
  },
  {
   "cell_type": "code",
   "execution_count": 23,
   "id": "ordinary-request",
   "metadata": {},
   "outputs": [
    {
     "data": {
      "image/png": "[encoded data removed]",
      "text/plain": [
       "<Figure size 432x288 with 1 Axes>"
      ]
     },
     "metadata": {
      "needs_background": "light"
     },
     "output_type": "display_data"
    }
   ],
   "source": [
    "sns.countplot(x = population);"
   ]
  },
  {
   "cell_type": "code",
   "execution_count": 24,
   "id": "enhanced-festival",
   "metadata": {},
   "outputs": [],
   "source": [
    "samples = list(product(population, population))"
   ]
  },
  {
   "cell_type": "code",
   "execution_count": 25,
   "id": "according-vietnamese",
   "metadata": {},
   "outputs": [
    {
     "data": {
      "text/plain": [
       "[(2, 2),\n",
       " (2, 3),\n",
       " (2, 4),\n",
       " (2, 5),\n",
       " (3, 2),\n",
       " (3, 3),\n",
       " (3, 4),\n",
       " (3, 5),\n",
       " (4, 2),\n",
       " (4, 3),\n",
       " (4, 4),\n",
       " (4, 5),\n",
       " (5, 2),\n",
       " (5, 3),\n",
       " (5, 4),\n",
       " (5, 5)]"
      ]
     },
     "execution_count": 25,
     "metadata": {},
     "output_type": "execute_result"
    }
   ],
   "source": [
    "samples"
   ]
  },
  {
   "cell_type": "markdown",
   "id": "regular-karma",
   "metadata": {},
   "source": [
    "<img src=\"../images/mean-sampling-dist.png\" alt=\"mean-sampling-dist\" width=400 align=\"left\" />"
   ]
  },
  {
   "cell_type": "markdown",
   "id": "smoking-phase",
   "metadata": {},
   "source": [
    "At this point, remember, we’re clarifying the notion of a sampling distribution of the mean. In practice, only a single random sample, not 16 possible samples, would be taken from the population; the sample size would be very small relative to a much larger population size, and, of course, not all observations in the population would be known."
   ]
  },
  {
   "cell_type": "markdown",
   "id": "motivated-explosion",
   "metadata": {},
   "source": [
    "For each of the 16 possible samples, below also lists a sample mean (found by adding the two observations and dividing by 2) and its probability of occurrence\n",
    "(expressed as $\\frac{1}{16}$, since each of the 16 possible samples is equally likely)."
   ]
  },
  {
   "cell_type": "markdown",
   "id": "promotional-glory",
   "metadata": {},
   "source": [
    "When cast into a relative frequency or probability distribution, as in figure below, the 16 sample means constitute the sampling distribution of the mean, previously defined as the probability distribution of means for all possible random samples of a given size from some population. Not all values of the sample mean occur with equal probabilities since some values occur more than once among the 16 possible samples. For instance, a sample mean value of 3.5 appears among 4 of 16 possibilities and has\n",
    "a probability of $\\frac{4}{16}$."
   ]
  },
  {
   "cell_type": "code",
   "execution_count": 32,
   "id": "massive-hamburg",
   "metadata": {},
   "outputs": [],
   "source": [
    "mean_sampling_dist = np.mean(samples, axis=1)"
   ]
  },
  {
   "cell_type": "code",
   "execution_count": 33,
   "id": "floating-valley",
   "metadata": {},
   "outputs": [
    {
     "data": {
      "image/png": "[encoded data removed]",
      "text/plain": [
       "<Figure size 432x288 with 1 Axes>"
      ]
     },
     "metadata": {
      "needs_background": "light"
     },
     "output_type": "display_data"
    }
   ],
   "source": [
    "sns.countplot(x = mean_sampling_dist);"
   ]
  },
  {
   "cell_type": "markdown",
   "id": "romance-cycling",
   "metadata": {},
   "source": [
    "## Probability of a Particular Sample Mean\n",
    "\n",
    "The distribution in figure above can be consulted to determine the probability of obtaining a particular sample mean or set of sample means. For example, the probability of a randomly selected sample mean of 5.0 equals $\\frac{1}{16}$ or `0.0625`. According to the addition rule for mutually exclusive outcomes, described in Chapter 8, the probability of a randomly selected sample mean of either 5.0 or 2.0 equals $\\frac{1}{16} + \\frac{1}{16} = \\frac{2}{16} = .1250$. This type of probability statement, based on a sampling distribution, assumes an essential role in inferential statistics and will reappear throughout the remainder of the statistics tutorials."
   ]
  },
  {
   "cell_type": "markdown",
   "id": "precise-exhibition",
   "metadata": {},
   "source": [
    "## Some Important Symbols\n",
    "\n",
    "Having established precisely what constitutes a sampling distribution under highly simplified conditions, we can introduce the special symbols that identify the mean and the standard deviation of the sampling distribution of the mean.\n",
    "\n",
    "|Type of Distribution|Mean|Standard Deviation|\n",
    "|:--|:--|:--|\n",
    "|Sample|$\\bar{X}$|$S$|\n",
    "|Population|$\\mu$|$\\sigma$|\n",
    "|Sampling Distribution of the Mean|$\\mu_{\\bar{X}}$|$\\sigma_{\\bar{X}}$ (Standard Error of the mean)|"
   ]
  },
  {
   "cell_type": "markdown",
   "id": "ideal-default",
   "metadata": {},
   "source": [
    "New are the Greek letters $\\mu_{\\bar{X}}$ and $\\sigma_{\\bar{X}}$, representing the mean and standard deviation, respectively, of the sampling distribution of the mean. To minimize confusion, the latter term, $\\sigma_{\\bar{X}}$, is often referred to as the **standard error of the mean** or simply as the **standard error**."
   ]
  },
  {
   "cell_type": "markdown",
   "id": "narrative-express",
   "metadata": {},
   "source": [
    "With this background, let’s focus on the three most important characteristics of the sampling distribution of the mean: **its mean, its standard deviation, and its shape**. In subsequent sections, these three characteristics will form the basis for applied work in inferential statistics."
   ]
  },
  {
   "cell_type": "markdown",
   "id": "swiss-lying",
   "metadata": {},
   "source": [
    "## Mean of All Sample Means\n",
    "\n",
    "The distribution of sample means itself has a mean.\n",
    "\n",
    "> **The mean of the sampling distribution of the mean always equals the mean of the population.**\n",
    ">\n",
    "> $$\\mu_{\\bar{X}} = \\mu$$"
   ]
  },
  {
   "cell_type": "markdown",
   "id": "orange-saying",
   "metadata": {},
   "source": [
    "It should be apparent, therefore, that whether an expression involves $\\mu_{\\bar{X}}$ or $\\mu$, it reflects, at most, a difference in emphasis on either the sampling distribution or the population, respectively, rather than any difference in numerical value."
   ]
  },
  {
   "cell_type": "markdown",
   "id": "interracial-greeting",
   "metadata": {},
   "source": [
    "### Explanation\n",
    "\n",
    "Although important, it’s not particularly startling that the mean of all sample means equals the population mean. As can be seen in figure of all possible samples, samples are not exact replicas of the population, and most sample means are either larger or smaller than the population mean. By taking the mean of all sample means, however, you effectively neutralize chance differences between sample means and retain a value equal to the population mean."
   ]
  },
  {
   "cell_type": "markdown",
   "id": "standing-aluminum",
   "metadata": {},
   "source": [
    "## Standard Error of the Mean\n",
    "\n",
    "The distribution of sample means also has a standard deviation, referred to as the standard error of the mean. The standard error of the mean equals the standard deviation of the population divided by the square root of the sample size.\n",
    "\n",
    "$$ \\sigma_{\\bar{X}} = \\frac{\\sigma}{\\sqrt{n}} $$\n",
    "\n",
    "**You might find it helpful to think of the standard error of the mean as a rough measure of the average amount by which sample means deviate from the mean of the sampling distribution or from the population mean.**"
   ]
  },
  {
   "cell_type": "markdown",
   "id": "processed-result",
   "metadata": {},
   "source": [
    "### Effect of Sample Size\n",
    "\n",
    "A most important implication of Standard Error of the mean formula is that whenever the sample size equals two or more, the variability of the sampling distribution is less than that in the population. A modest demonstration of this effect appears in where the means of all possible samples cluster closer to the population mean (equal to 3.5) than do the four original observations in the population. A more dramatic demonstration occurs with larger sample sizes."
   ]
  },
  {
   "cell_type": "markdown",
   "id": "scientific-employee",
   "metadata": {},
   "source": [
    "According to the standard error of the mean formula, any increase in sample size translates into a smaller standard error and, therefore, into a new sampling distribution with less variability. With a larger sample size, sample means cluster more closely about the mean of the sampling distribution and about the mean of the population and, therefore, allow more precise generalizations from samples to populations."
   ]
  },
  {
   "cell_type": "markdown",
   "id": "several-birthday",
   "metadata": {},
   "source": [
    "### Explanation\n",
    "\n",
    "It’s not surprising that variability should be smaller in sampling distributions than in populations. The population standard deviation reflects variability among individual observations, and it is directly affected by any relatively large or small observations within the population. On the other hand, the standard error of the mean reflects variability among sample means, each of which represents a collection of individual observations. The appearance of relatively large or small observations within a particular sample tends to affect the sample mean only slightly, because of the stabilizing presence in the same sample of other, more moderate observations or even extreme observations in the opposite direction. This stabilizing effect becomes even more pronounced with larger sample sizes."
   ]
  },
  {
   "cell_type": "markdown",
   "id": "supported-narrative",
   "metadata": {},
   "source": [
    "## Shape of the Sampling Distribution\n",
    "\n",
    "**The central limit theorem states that, regardless of the shape of the population, the shape of the sampling distribution of the mean approximates a normal curve if the sample size is sufficiently large.**\n",
    "\n",
    "According to this theorem, it doesn’t matter whether the shape of the parent population is normal, positively skewed, negatively skewed, or some nameless, bizarre shape, as long as the sample size is sufficiently large. What constitutes “sufficiently large” depends on the shape of the parent population. If the shape of the parent population is normal, then any sample size (even a sample size of one) will be sufficiently large. Otherwise, depending on the degree of non-normality in the parent population, a sample size between 25 and 100 is sufficiently large."
   ]
  },
  {
   "cell_type": "markdown",
   "id": "above-sandwich",
   "metadata": {},
   "source": [
    "<img src=\"../images/sampling-dist-is-normal.png\" alt=\"sampling-dist-is-normal\" width=300 align=\"left\" />"
   ]
  },
  {
   "cell_type": "markdown",
   "id": "essential-offset",
   "metadata": {},
   "source": [
    "<img src=\"../images/sampling-dist-is-normal-2.png\" alt=\"sampling-dist-is-normal\" width=500 align=\"left\" />"
   ]
  }
 ],
 "metadata": {
  "kernelspec": {
   "display_name": "Python 3",
   "language": "python",
   "name": "python3"
  },
  "language_info": {
   "codemirror_mode": {
    "name": "ipython",
    "version": 3
   },
   "file_extension": ".py",
   "mimetype": "text/x-python",
   "name": "python",
   "nbconvert_exporter": "python",
   "pygments_lexer": "ipython3",
   "version": "3.7.9"
  }
 },
 "nbformat": 4,
 "nbformat_minor": 5
}
