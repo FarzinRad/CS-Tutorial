{
 "cells": [
  {
   "cell_type": "markdown",
   "id": "irish-rehabilitation",
   "metadata": {},
   "source": [
    "# Hypothesis Testing: The z Test\n",
    "\n",
    "This chapter describes the first in a series of hypothesis tests. Learning the vocabulary of special terms for hypothesis tests will be most helpful throughout the remainder of the section."
   ]
  },
  {
   "cell_type": "markdown",
   "id": "dimensional-karma",
   "metadata": {},
   "source": [
    "Using the sampling distribution as our frame of reference, the one observed outcome is characterized as either a common outcome or a rare outcome. A common outcome is readily attributable to chance, and therefore, the hypothesis that nothing special is happening—the null hypothesis—is retained. On the other hand, a rare outcome isn’t readily attributable to chance, and therefore, the null hypothesis is rejected (usually to the delight of the researcher)"
   ]
  },
  {
   "cell_type": "markdown",
   "id": "dirty-crest",
   "metadata": {},
   "source": [
    "## Testing a Hypothesis"
   ]
  },
  {
   "cell_type": "markdown",
   "id": "humanitarian-employer",
   "metadata": {},
   "source": [
    "Let's test the hypothesis that the mean SAT math score for all local freshmen equals the national average of 500. Now, given a mean math score of 533 for a random sample of 100 freshmen, let’s test the hypothesis that, with respect to the national average, nothing special is happening in the local population. Insofar as an investigator usually suspects just the opposite—namely, that something special is happening in the local population—he or she hopes to reject the hypothesis that nothing special is happening, henceforth referred to as the null hypothesis and defined more formally in a later section"
   ]
  },
  {
   "cell_type": "markdown",
   "id": "modified-great",
   "metadata": {},
   "source": [
    "## Hypothesized Sampling Distribution\n",
    "\n",
    "If the null hypothesis is true, then the distribution of sample means—that is, the sampling distribution of the mean for all possible random samples, each of size 100, from the local population of freshmen—will be centered about the national average of 500. (Remember, the mean of the sampling distribution always equals the population mean.)\n",
    "\n",
    "This sampling distribution is referred to as the **hypothesized** sampling distribution, since its mean equals 500, the hypothesized mean reading score for the local population of freshmen."
   ]
  },
  {
   "cell_type": "markdown",
   "id": "rubber-glance",
   "metadata": {},
   "source": [
    "<img src=\"../images/hypothesized-sampling-dist.png\" alt=\"hypothesized-sampling-dist\" width=300 align=\"left\" />"
   ]
  },
  {
   "cell_type": "markdown",
   "id": "cheap-hacker",
   "metadata": {},
   "source": [
    "In figure above, vertical lines appear, at intervals of size 11, on either side of the hypothesized population mean of 500. These intervals reflect the size of the standard error of the mean, $\\sigma_{\\bar{X}}$. To verify this fact, originally demonstrated for the population standard deviation, $\\sigma$, and 100 for the sample size, $n$ to obtain:\n",
    "\n",
    "$$\n",
    "\\sigma_{\\bar{X}} = \\frac{\\sigma}{\\sqrt{n}} = \\frac{110}{\\sqrt{100}} = 11\n",
    "$$"
   ]
  },
  {
   "cell_type": "markdown",
   "id": "completed-amino",
   "metadata": {},
   "source": [
    "Notice that the shape of the hypothesized sampling distribution approximates a normal curve, since the sample size of 100 is large enough to satisfy the requirements of the central limit theorem. Eventually, with the aid of normal curve tables, we will be able to construct boundaries for common and rare outcomes under the null hypothesis."
   ]
  },
  {
   "cell_type": "markdown",
   "id": "related-thong",
   "metadata": {},
   "source": [
    "The null hypothes is that the population mean for the freshman class equals 500 is tentatively assumed to be true. It is tested by determining whether the one observed sample mean qualifies as a common outcome or a rare outcome in the hypothesized sampling distribution"
   ]
  },
  {
   "cell_type": "markdown",
   "id": "generous-thread",
   "metadata": {},
   "source": [
    "> **Common Outcomes**\n",
    ">\n",
    "> An observed sample mean qualifies as a common outcome if the difference between its value and that of the hypothesized population mean is small enough to be viewed as a probable outcome under the null hypothesis."
   ]
  },
  {
   "cell_type": "markdown",
   "id": "blond-apple",
   "metadata": {},
   "source": [
    "_A common outcome signifies a lack of evidence that, with respect to the null hypothesis, something special is happening in the underlying population_. Because now there is no compelling reason for rejecting the null hypothesis, it is retained."
   ]
  },
  {
   "cell_type": "markdown",
   "id": "rental-treaty",
   "metadata": {},
   "source": [
    "> **Rare Outcomes**\n",
    ">\n",
    "> An observed sample mean qualifies as a rare outcome if the difference between its value and the hypothesized population mean is too large to be reasonably viewed as a probable outcome under the null hypothesis."
   ]
  },
  {
   "cell_type": "markdown",
   "id": "touched-stamp",
   "metadata": {},
   "source": [
    "_A rare outcome signifies that, with respect to the null hypothesis, something special probably is happening in the underlying population_. Because now there are grounds for suspecting the null hypothesis, it is rejected."
   ]
  },
  {
   "cell_type": "markdown",
   "id": "aerial-lending",
   "metadata": {},
   "source": [
    "## Boundaries for Common and Rare Outcomes\n",
    "\n",
    "Superimposed on the hypothesized sampling distribution in figure below is one\n",
    "possible set of boundaries for common and rare outcomes, expressed in values of $\\bar{X}$."
   ]
  },
  {
   "cell_type": "markdown",
   "id": "existing-consolidation",
   "metadata": {},
   "source": [
    "<img src=\"../images/boundaries.png\" alt=\"boundaries\" width=300 align=\"left\" />"
   ]
  },
  {
   "cell_type": "markdown",
   "id": "elementary-integer",
   "metadata": {},
   "source": [
    "If the one observed sample mean is located between 478 and 522, it will qualify as a common outcome (readily attributed to variability) under the null hypothesis, and the null hypothesis will be retained. If, however, the one observed sample mean is greater than 522 or less than 478, it will qualify as a rare outcome (not readily attributed to variability) under the null hypothesis, and the null hypothesis will be rejected. Because the observed sample mean of 533 does exceed 522, the null hypothesis is rejected. On the basis of the present test, it is unlikely that the sample of 100 freshmen, with a mean math score of 533, originates from a population whose mean equals the national average of 500, and, therefore, the investigator can conclude that the mean math score for the local population of freshmen probably differs from (exceeds) the national average."
   ]
  },
  {
   "cell_type": "markdown",
   "id": "retained-warehouse",
   "metadata": {},
   "source": [
    "## z Test for a Population Mean\n",
    "\n",
    "For the hypothesis test with SAT math scores, it is customary to base the test not on the hypothesized sampling distribution of $\\bar{X}$, but on its standardized counterpart, the hypothesized sampling distribution of z shown in figure below."
   ]
  },
  {
   "cell_type": "markdown",
   "id": "complex-journal",
   "metadata": {},
   "source": [
    "<img src=\"../images/boundaries-z.png\" alt=\"boundaries-z\" width=300 align=\"left\" />"
   ]
  },
  {
   "cell_type": "markdown",
   "id": "arabic-particle",
   "metadata": {},
   "source": [
    "The **sampling distribution of z** _represents the distribution of z values that would be obtained if a value of z were calculated for each sample mean for all possible random samples of a given size from some population_.\n",
    "\n",
    "$$\n",
    "\\text{Standard Score} = \\frac{\\text{raw score} - \\text{mean}}{\\text{standard deviation}}\n",
    "$$"
   ]
  },
  {
   "cell_type": "markdown",
   "id": "blocked-induction",
   "metadata": {},
   "source": [
    "> **Why 1.96?**\n",
    "> In probability and statistics, **1.96** is the approximate value of the **97.5** percentile point of the standard normal distribution. 95% of the area under a normal curve lies within roughly 1.96 standard deviations of the mean.\n",
    ">\n",
    "> Its ubiquity is due to the arbitrary but common convention of using confidence intervals with 95% coverage rather than other coverages (such as 90% or 99%). This convention seems particularly common in medical statistics, but is also common in other areas of application, such as earth sciences, social sciences and business research."
   ]
  },
  {
   "cell_type": "markdown",
   "id": "accredited-greensboro",
   "metadata": {},
   "source": [
    "If X has a standard normal distribution, i.e. X ~ N(0,1),\n",
    "\n",
    "$$\n",
    "{\\displaystyle \\mathrm {P} (X>1.96)\\approx 0.025,\\,}\n",
    "\\\\\n",
    "{\\displaystyle \\mathrm {P} (X<1.96)\\approx 0.975,\\,}\n",
    "$$\n",
    "\n",
    "and as the normal distribution is symmetric,\n",
    "\n",
    "$$\n",
    "{\\displaystyle \\mathrm {P} (-1.96<X<1.96)\\approx 0.95.\\,}\n",
    "$$\n",
    "\n",
    "One notation for this number is $z_{.975}$. From the probability density function of the standard normal distribution, the exact value of $z_{.975}$ is determined by\n",
    "\n",
    "$$\n",
    "{\\displaystyle {\\frac {1}{\\sqrt {2\\pi }}}\\int _{-\\infty }^{z_{.975}}e^{-x^{2}/2}\\,\\mathrm {d} x=0.975.}\n",
    "$$"
   ]
  },
  {
   "cell_type": "markdown",
   "id": "incredible-terrorism",
   "metadata": {},
   "source": [
    "## Converting a Sample Mean to z\n",
    "\n",
    "z ratio for a single population mean:\n",
    "\n",
    "$$\n",
    "z = \\frac{\\bar{X} - \\mu_{hyp}}{\\sigma_{\\bar{x}}}\n",
    "$$"
   ]
  },
  {
   "cell_type": "markdown",
   "id": "effective-bidder",
   "metadata": {},
   "source": [
    "To test the hypothesis for SAT scores, we must determine the value of z.\n",
    "\n",
    "$$\n",
    "z = \\frac{533 - 500}{11} = 3\n",
    "$$"
   ]
  },
  {
   "cell_type": "markdown",
   "id": "musical-conversation",
   "metadata": {},
   "source": [
    "The observed z of 3 exceeds the value of 1.96 specified in the hypothesized sampling distribution.  Thus, the observed z qualifies as a rare outcome under the null hypothesis, and **the null hypothesis is rejected**. The results of this test with z are the same as those for the original hypothesis test with $\\bar{X}$."
   ]
  },
  {
   "cell_type": "markdown",
   "id": "applicable-catholic",
   "metadata": {},
   "source": [
    "## Assumptions of z Test\n",
    "\n",
    "When a hypothesis test evaluates how far the observed sample mean deviates, in\n",
    "standard error units, from the hypothesized population mean, as in the present example, it is referred to as a z test or, more accurately, as a z test for a population mean."
   ]
  },
  {
   "cell_type": "markdown",
   "id": "micro-pepper",
   "metadata": {},
   "source": [
    "**This z test is accurate only when:**\n",
    "\n",
    "1. The population is normally distributed **or** the sample size is large enough to satisfy the requirements of the central limit theorem.\n",
    "2. The population standard deviation is known.\n"
   ]
  },
  {
   "cell_type": "markdown",
   "id": "legitimate-movement",
   "metadata": {},
   "source": [
    "In the present example, the z test is appropriate because the sample size of 100 is large enough to satisfy the central limit theorem and the population standard deviation is known to be 110."
   ]
  },
  {
   "cell_type": "markdown",
   "id": "packed-stroke",
   "metadata": {},
   "source": [
    "**Example:** Calculate the value of the z test for each of the following situations:\n",
    "\n",
    "- $\\bar{X}$ = 566, $\\sigma$ = 30, n = 36, $\\mu_\\text{hyp}$ = 560\n",
    "- $\\bar{X}$ = 24, $\\sigma$ = 4, n = 64, $\\mu_\\text{hyp}$ = 25\n",
    "- $\\bar{X}$ = 82, $\\sigma$ = 14, n = 49, $\\mu_\\text{hyp}$ = 75\n",
    "- $\\bar{X}$ = 136, $\\sigma$ = 15, n = 25, $\\mu_\\text{hyp}$ = 146"
   ]
  },
  {
   "cell_type": "markdown",
   "id": "close-bracelet",
   "metadata": {},
   "source": [
    "## Statemenet of a Research Problem\n",
    "\n",
    "The formulation of a research problem often represents the most crucial and exciting phase of an investigation. Indeed, the mark of a skillful investigator is to focus on an important research problem that can be answered. Do children from broken families score lower on tests of personal adjustment? Do aggressive TV cartoons incite more disruptive behavior in preschool children? Does profit sharing increase the productivity of employees?"
   ]
  },
  {
   "cell_type": "markdown",
   "id": "southern-receiver",
   "metadata": {},
   "source": [
    "**Hypothesis Test Summary: z Test for a Population Mean (SAT Scores)**\n",
    "___\n",
    "**Research Problem**\n",
    "\n",
    "Does the mean SAT math score for all local freshmen differ from the national\n",
    "average of 500?\n",
    "___\n",
    "**Statistical Hypotheses**\n",
    "$$\n",
    "H_0 : \\mu = 500\n",
    "\\\\\n",
    "H_1 : \\mu \\neq 500\n",
    "$$\n",
    "___\n",
    "**Decision Rule**\n",
    "\n",
    "Reject $H_0$ at the $0.05$ level of significance if z ≥ 1.96 or if z ≤ –1.96.\n",
    "___\n",
    "**Calculations**\n",
    "Given\n",
    "\n",
    "$$\n",
    "\\bar{X} = 533; \\mu_{hyp} = 500; \\sigma_{\\bar{X}} = \\frac{\\sigma}{\\sqrt{n}} = \\frac{110}{\\sqrt{100}} = 11\n",
    "\\\\\n",
    "z = \\frac{533 - 500}{11} = 3\n",
    "$$\n",
    "___\n",
    "**Decision**\n",
    "\n",
    "Reject $H_0$ at the $0.05$ level of significance because z = 3 exceeds 1.96.\n",
    "___\n",
    "**Interpretation**\n",
    "\n",
    "The mean SAT math score for all local freshmen does not equal—it\n",
    "exceeds—the national average of 500."
   ]
  },
  {
   "cell_type": "markdown",
   "id": "proof-automation",
   "metadata": {},
   "source": [
    "### Null Hypothesis ($H_0$)\n",
    "\n",
    "Generally speaking, the **null hypothesis ($H_0$)** is a statistical hypothesis that usually asserts that nothing special is happening with respect to some characteristic of the underlying population."
   ]
  },
  {
   "cell_type": "markdown",
   "id": "plastic-retirement",
   "metadata": {},
   "source": [
    "### Alternative Hypothesis ($H_1$)\n",
    "\n",
    "The alternative hypothesis ($H_1$) asserts the opposite of the null hypothesis. A decision to retain the null hypothesis implies a lack of support for the alternative hypothesis, and a decision to reject the null hypothesis implies support for the alternative hypothesis."
   ]
  },
  {
   "cell_type": "markdown",
   "id": "greenhouse-guidance",
   "metadata": {},
   "source": [
    "> Regardless of its form, $H_1$ usually is identified with the research hypothesis, _the informal hypothesis or hunch that, by implying the presence of something special in the underlying population, serves as inspiration for the entire investigation_."
   ]
  },
  {
   "cell_type": "markdown",
   "id": "modern-andorra",
   "metadata": {},
   "source": [
    "### Decision Rule\n",
    "\n",
    "A decision rule specifies precisely when H0 should be rejected (because the observed z qualifies as a rare outcome). There are many possible decision rules, as will be seen later, A very common one, already introduced, specifies that $H_0$ should be rejected if the observed z equals or is more positive than 1.96 or if the observed z equals or is more negative than –1.96. Conversely, $H_0$ should be retained if the observed z falls between ± 1.96."
   ]
  },
  {
   "cell_type": "markdown",
   "id": "dangerous-court",
   "metadata": {},
   "source": [
    "###  Critical z Scores\n",
    "z scores of ± 1.96 define the boundaries for the middle 0.95 of the total area (1.00) under the hypothesized sampling distribution for z. Derived\n",
    "from the normal curve table, as you can verify these two z scores separate common from rare outcomes and hence dictate whether $H_0$ should be retained or rejected. Because of their vital role in the decision about $H_0$, these scores are referred to as critical z scores."
   ]
  },
  {
   "cell_type": "markdown",
   "id": "primary-coordination",
   "metadata": {},
   "source": [
    "### Level of Significance ($\\alpha$)\n",
    "\n",
    "The proportion (0.025 + 0.025 = 0.05) of the total area that is identified with rare outcomes. Often referred to as the level of significance of the statistical test, this proportion is symbolized by the Greek letter $\\alpha$ (alpha) and discussed more thoroughly later. In the present example, the level of significance, $\\alpha$, equals 0.05."
   ]
  },
  {
   "cell_type": "markdown",
   "id": "frank-cream",
   "metadata": {},
   "source": [
    "The **level of significance ($\\alpha$)** indicates the degree of rarity required of an observed outcome in order to reject the null hypothesis ($H_0$). For instance, the 0.05 level of significance indicates that $H_0$ should be rejected if the observed z could have occurred just by chance with a probability of only 0.05 (one chance out of twenty) or less."
   ]
  },
  {
   "cell_type": "markdown",
   "id": "minor-abortion",
   "metadata": {},
   "source": [
    "<img src=\"../images/level-of-significance.png\" alt=\"level of significance\" width=300 align=\"left\" />"
   ]
  }
 ],
 "metadata": {
  "kernelspec": {
   "display_name": "Python 3",
   "language": "python",
   "name": "python3"
  },
  "language_info": {
   "codemirror_mode": {
    "name": "ipython",
    "version": 3
   },
   "file_extension": ".py",
   "mimetype": "text/x-python",
   "name": "python",
   "nbconvert_exporter": "python",
   "pygments_lexer": "ipython3",
   "version": "3.7.9"
  }
 },
 "nbformat": 4,
 "nbformat_minor": 5
}
