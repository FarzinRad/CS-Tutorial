{
 "cells": [
  {
   "cell_type": "markdown",
   "id": "comfortable-delta",
   "metadata": {},
   "source": [
    "# t Test for One Sample\n",
    "\n",
    "Whenever, as usually is the case, the population standard deviation is unknown, it must be estimated with the sample standard deviation. Estimating the unknown population standard deviation has important implications that require both the use of degrees of freedom and the replacement of the z test with the t test."
   ]
  },
  {
   "cell_type": "markdown",
   "id": "restricted-removal",
   "metadata": {},
   "source": [
    "## Sampling Distribution of t\n",
    " \n",
    "Like the sampling distribution of z, the sampling distribution of t represents the distribution that would be obtained if a value of t were calculated for each sample mean for all possible random samples of a given size from some population."
   ]
  },
  {
   "cell_type": "markdown",
   "id": "cubic-saskatchewan",
   "metadata": {},
   "source": [
    "In the early 1900s, William Gosset discovered the sampling distribution of t and subsequently reported his achievement under the pen name of “Student.” Actually, Gosset discovered not just one but an entire family of t sampling distributions (or “Student’s” distributions)."
   ]
  },
  {
   "cell_type": "code",
   "execution_count": null,
   "id": "representative-minister",
   "metadata": {},
   "outputs": [],
   "source": []
  }
 ],
 "metadata": {
  "kernelspec": {
   "display_name": "Python 3",
   "language": "python",
   "name": "python3"
  },
  "language_info": {
   "codemirror_mode": {
    "name": "ipython",
    "version": 3
   },
   "file_extension": ".py",
   "mimetype": "text/x-python",
   "name": "python",
   "nbconvert_exporter": "python",
   "pygments_lexer": "ipython3",
   "version": "3.7.9"
  }
 },
 "nbformat": 4,
 "nbformat_minor": 5
}
